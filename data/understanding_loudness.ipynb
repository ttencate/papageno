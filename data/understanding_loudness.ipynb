{
 "cells": [
  {
   "cell_type": "markdown",
   "metadata": {},
   "source": [
    "# Understanding loudness\n",
    "\n",
    "How do loudness, amplitude, power and the spectrogram relate to each other?"
   ]
  },
  {
   "cell_type": "code",
   "execution_count": null,
   "metadata": {},
   "outputs": [],
   "source": [
    "import IPython\n",
    "import librosa\n",
    "import librosa.display\n",
    "import matplotlib\n",
    "import matplotlib.pyplot as plt\n",
    "import numpy as np\n",
    "import scipy.signal\n",
    "\n",
    "import warnings\n",
    "\n",
    "warnings.filterwarnings('ignore', category=matplotlib.MatplotlibDeprecationWarning)\n",
    "plt.rcParams['figure.figsize'] = (12, 4)"
   ]
  },
  {
   "cell_type": "markdown",
   "metadata": {},
   "source": [
    "Create a signal consisting of:\n",
    "\n",
    "1. A pure sine wave of amplitude 1/2.\n",
    "2. The same sine, but with its first harmonic added at amplitude 1/2.\n",
    "3. A block wave.\n",
    "4. Noise."
   ]
  },
  {
   "cell_type": "code",
   "execution_count": null,
   "metadata": {},
   "outputs": [],
   "source": [
    "sr = 44100\n",
    "l = sr // 10\n",
    "t = np.arange(0, 4*l) / sr\n",
    "y = np.concatenate((\n",
    "    0.5 * np.sin(t[0:l] * 2 * np.pi * 440),\n",
    "    0.5 * np.sin(t[l:2*l] * 2 * np.pi * 440) + 0.5 * np.sin(t[l:2*l] * 2 * np.pi * 880),\n",
    "    np.where(t[2*l:3*l] % (1/440) < 1/880, 1.0, -1.0),\n",
    "    2.0 * np.random.random_sample((l,)) - 1.0\n",
    "))\n",
    "\n",
    "plt.plot(t, y)\n",
    "plt.show()\n",
    "\n",
    "IPython.display.display(IPython.display.Audio(y, rate=sr))"
   ]
  },
  {
   "cell_type": "markdown",
   "metadata": {},
   "source": [
    "Create a spectrogram using the short-time Fourier transform."
   ]
  },
  {
   "cell_type": "code",
   "execution_count": null,
   "metadata": {},
   "outputs": [],
   "source": [
    "n_fft = 512\n",
    "hop_length = 256\n",
    "win_length = 512\n",
    "S = np.abs(librosa.stft(y, n_fft=n_fft, hop_length=hop_length, win_length=win_length, window='hann'))\n",
    "\n",
    "fig, ax = plt.subplots()\n",
    "ax.set_title('S')\n",
    "img = librosa.display.specshow(S, x_axis='time', y_axis='log', ax=ax)\n",
    "colorbar = fig.colorbar(img, ax=ax)"
   ]
  },
  {
   "cell_type": "markdown",
   "metadata": {},
   "source": [
    "Let's compute the RMS value from the samples. The RMS of the square wave is equal to 1, which matches my expectation. That of the pure sine wave of amplitude $1/2$ should be $1/2 \\frac{\\sqrt{2}}{2} \\approx 0.35$ which also seems right."
   ]
  },
  {
   "cell_type": "code",
   "execution_count": null,
   "metadata": {},
   "outputs": [],
   "source": [
    "rms = librosa.feature.rms(y=y, frame_length=n_fft, hop_length=hop_length)[0, :]\n",
    "plt.plot(rms)\n",
    "plt.ylim(0, 1.1);"
   ]
  },
  {
   "cell_type": "markdown",
   "metadata": {},
   "source": [
    "How do the spectrogram values relate to the terms \"amplitude\" and \"power\"?\n",
    "\n",
    "Answer: the spectrum is _amplitude_, and _power_ is _amplitude squared_. This matches the documentation of `librosa.amplitude_to_db`:\n",
    "\n",
    "> This is equivalent to `power_to_db(S**2)`, but is provided for convenience.\n",
    "\n",
    "According to [Wikipedia](https://en.wikipedia.org/wiki/Audio_power#Power_and_loudness_in_the_real_world):\n",
    "\n",
    "> Perceived \"loudness\" varies approximately logarithmically with acoustical output power.\n",
    "\n",
    "From all I can find, (the log of) RMS is also roughly equal to perceived loudness, so RMS would be the same as \"power\" in this context."
   ]
  },
  {
   "cell_type": "code",
   "execution_count": null,
   "metadata": {},
   "outputs": [],
   "source": [
    "fig, ax = plt.subplots()\n",
    "ax.set_title('amplitude_to_db(S)')\n",
    "img = librosa.display.specshow(librosa.amplitude_to_db(S, ref=np.max),\n",
    "                               x_axis='time', y_axis='log', ax=ax)\n",
    "colorbar = fig.colorbar(img, ax=ax)\n",
    "\n",
    "fig, ax = plt.subplots()\n",
    "ax.set_title('power_to_db(S) (this is wrong!)')\n",
    "img = librosa.display.specshow(librosa.power_to_db(S, ref=np.max),\n",
    "                               x_axis='time', y_axis='log', ax=ax)\n",
    "colorbar = fig.colorbar(img, ax=ax)\n",
    "\n",
    "fig, ax = plt.subplots()\n",
    "ax.set_title('power_to_db(S**2)')\n",
    "img = librosa.display.specshow(librosa.power_to_db(S**2, ref=np.max),\n",
    "                               x_axis='time', y_axis='log', ax=ax)\n",
    "colorbar = fig.colorbar(img, ax=ax)"
   ]
  },
  {
   "cell_type": "markdown",
   "metadata": {},
   "source": [
    "The RMS that librosa calculates from the spectrogram is not the same as from the samples! It's about 2.3 times lower. Why? The answer is in the `librosa.feature.rms` docs:\n",
    "\n",
    "> Use a STFT window of constant ones and no frame centering to get consistent results with the RMS computed from the audio samples `y`.\n",
    "\n",
    "Of course: the windowing \"removes\" some amplitude/power/energy from the signal. So the values we are getting here depend on the window shape too!"
   ]
  },
  {
   "cell_type": "code",
   "execution_count": null,
   "metadata": {},
   "outputs": [],
   "source": [
    "S_rms = librosa.feature.rms(S=S, frame_length=n_fft, hop_length=hop_length)[0, :]\n",
    "\n",
    "S_unwindowed = np.abs(librosa.stft(y, n_fft=n_fft, hop_length=hop_length, win_length=n_fft, window=np.ones))\n",
    "S_rms_unwindowed = librosa.feature.rms(S=S_unwindowed, frame_length=n_fft, hop_length=hop_length)[0, :]\n",
    "\n",
    "plt.plot(rms, label='RMS from samples')\n",
    "plt.plot(S_rms, 'x', label='RMS from spectrogram')\n",
    "plt.plot(S_rms_unwindowed, 'o', label='RMS from spectrogram with square window')\n",
    "plt.ylim(0, 1.1)\n",
    "plt.legend();"
   ]
  },
  {
   "cell_type": "markdown",
   "metadata": {},
   "source": [
    "Can we do this ourselves? The comment thread of [issue #1040](https://github.com/librosa/librosa/issues/1040) is interesting in this respect. I don't understand it fully but I can look at the code and replicate what it does (except the DC component which I assume to be zero).\n",
    "\n",
    "_Note_: the source code links in the docs on librosa.org are [broken](https://github.com/librosa/librosa/issues/1222) and link to old version of the source, despite claiming to show the latest version! So what you see at [this link](https://librosa.org/doc/latest/_modules/librosa/feature/spectral.html#rms) is currently (2021-01-11) something pretty old and not correct!"
   ]
  },
  {
   "cell_type": "code",
   "execution_count": null,
   "metadata": {},
   "outputs": [],
   "source": [
    "plt.plot(S_rms, label='RMS from spectrogram')\n",
    "plt.plot(np.sqrt(2 * np.sum(np.abs(S)**2, axis=0, keepdims=True) / n_fft**2)[0, :], 'x', label='My own')\n",
    "plt.plot(S_rms_unwindowed, label='RMS from spectrogram with square window')\n",
    "plt.plot(np.sqrt(2 * np.sum(np.abs(S_unwindowed)**2, axis=0, keepdims=True) / n_fft**2)[0, :], 'o', label='My own')\n",
    "plt.legend();"
   ]
  },
  {
   "cell_type": "markdown",
   "metadata": {},
   "source": [
    "How does this RMS depend on FFT parameters, if at all? Fortunately, it isn't affected by the frame length, which is as we would expect."
   ]
  },
  {
   "cell_type": "code",
   "execution_count": null,
   "metadata": {},
   "outputs": [],
   "source": [
    "for n in [256, 512, 1024]:\n",
    "    Sn = np.abs(librosa.stft(y=y, n_fft=n, hop_length=256))\n",
    "    plt.plot(\n",
    "        librosa.feature.rms(S=Sn, frame_length=n, hop_length=256)[0],\n",
    "        label=f'n_fft = {n}')\n",
    "plt.legend();"
   ]
  },
  {
   "cell_type": "markdown",
   "metadata": {},
   "source": [
    "It is, however, affected by the window shape."
   ]
  },
  {
   "cell_type": "code",
   "execution_count": null,
   "metadata": {},
   "outputs": [],
   "source": [
    "for w in ['hann', 'blackmanharris', ('kaiser', 8*np.pi)]:\n",
    "    Sn = np.abs(librosa.stft(y=y, n_fft=n_fft, hop_length=hop_length, window=w))\n",
    "    plt.plot(\n",
    "        librosa.feature.rms(S=Sn, frame_length=n_fft, hop_length=hop_length)[0],\n",
    "        label=str(w))\n",
    "plt.legend();"
   ]
  },
  {
   "cell_type": "markdown",
   "metadata": {},
   "source": [
    "Can we compensate for this? Yes, we can! Dividing by the RMS of the window shape does the trick."
   ]
  },
  {
   "cell_type": "code",
   "execution_count": null,
   "metadata": {},
   "outputs": [],
   "source": [
    "for w in ['hann', 'blackmanharris', ('kaiser', 8*np.pi)]:\n",
    "    Sn = np.abs(librosa.stft(y=y, n_fft=n_fft, hop_length=hop_length, window=w))\n",
    "    window_rms = np.sqrt(np.mean(scipy.signal.get_window(w, n_fft)**2))\n",
    "    plt.plot(\n",
    "        librosa.feature.rms(S=Sn, frame_length=n_fft, hop_length=hop_length)[0] / window_rms,\n",
    "        label=f'{w} (rms: {window_area:.3f})')\n",
    "plt.legend();"
   ]
  },
  {
   "cell_type": "markdown",
   "metadata": {},
   "source": [
    "None of this is directly representative of _perceptual_ volume. For that, we need something like A-weighting."
   ]
  },
  {
   "cell_type": "code",
   "execution_count": null,
   "metadata": {},
   "outputs": [],
   "source": [
    "freqs = librosa.cqt_frequencies(108, librosa.note_to_hz('C1')) # From librosa example. I don't understand it.\n",
    "for w in 'ABCDZ':\n",
    "    plt.plot(freqs, librosa.frequency_weighting(freqs, w), label=w)\n",
    "plt.xscale('log')\n",
    "plt.legend();"
   ]
  },
  {
   "cell_type": "markdown",
   "metadata": {},
   "source": [
    "These decibels need to be applied to the _power_ spectrum, not the _amplitude_ spectrum we have, as per the docs for `librosa.perceptual_weighting`:\n",
    "\n",
    "> Perceptual weighting of a power spectrogram:\n",
    "> \n",
    ">     S_p[f] = frequency_weighting(f, 'A') + 10*log(S[f] / ref)\n",
    "\n",
    "And the subsequent example:\n",
    "\n",
    ">     C = np.abs(librosa.cqt(y, sr=sr, fmin=librosa.note_to_hz('A1')))\n",
    ">     perceptual_CQT = librosa.perceptual_weighting(C**2,\n",
    ">                                                   freqs,\n",
    ">                                                   ref=np.max)\n",
    "\n",
    "This `cqt` is not the same as `stft`, but it seems the [constant-Q transform](https://en.wikipedia.org/wiki/Constant-Q_transform) is similar to the FFT but with logarithmically spaced bins, rather than linearly spaced. So I would expect that code to remain correct if we use the `stft` instead."
   ]
  }
 ],
 "metadata": {
  "kernelspec": {
   "display_name": "Python 3",
   "language": "python",
   "name": "python3"
  },
  "language_info": {
   "codemirror_mode": {
    "name": "ipython",
    "version": 3
   },
   "file_extension": ".py",
   "mimetype": "text/x-python",
   "name": "python",
   "nbconvert_exporter": "python",
   "pygments_lexer": "ipython3",
   "version": "3.8.6"
  }
 },
 "nbformat": 4,
 "nbformat_minor": 4
}
