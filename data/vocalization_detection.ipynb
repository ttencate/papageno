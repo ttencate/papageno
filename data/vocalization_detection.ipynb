{
 "cells": [
  {
   "cell_type": "code",
   "execution_count": null,
   "metadata": {},
   "outputs": [],
   "source": [
    "%reload_ext autoreload\n",
    "%autoreload 2\n",
    "%matplotlib inline\n",
    "\n",
    "import analysis\n",
    "import recording_selection\n",
    "import db\n",
    "import fetcher\n",
    "from recordings import Recording, RecordingOverrides\n",
    "from species import CommonName\n",
    "from trim_recordings import detect_utterances\n",
    "\n",
    "import IPython\n",
    "import librosa\n",
    "import librosa.display\n",
    "import librosa.feature\n",
    "import matplotlib\n",
    "from matplotlib.patches import Rectangle\n",
    "import matplotlib.pyplot as plt\n",
    "import numpy as np\n",
    "import pydub\n",
    "import scipy.ndimage\n",
    "import scipy.signal\n",
    "from tqdm import tqdm\n",
    "\n",
    "import collections\n",
    "import hashlib\n",
    "import io\n",
    "import itertools\n",
    "import logging\n",
    "import multiprocessing\n",
    "import warnings\n",
    "\n",
    "warnings.filterwarnings('ignore', category=matplotlib.MatplotlibDeprecationWarning)\n",
    "# logging.getLogger().setLevel(level=logging.DEBUG)"
   ]
  },
  {
   "cell_type": "code",
   "execution_count": null,
   "metadata": {},
   "outputs": [],
   "source": [
    "session = db.create_session('master.db')\n",
    "recordings_fetcher = fetcher.Fetcher('recordings', pool_size=8)\n",
    "recording_overrides = RecordingOverrides()"
   ]
  },
  {
   "cell_type": "markdown",
   "metadata": {},
   "source": [
    "Load up a set of good quality recordings to play around with."
   ]
  },
  {
   "cell_type": "code",
   "execution_count": null,
   "metadata": {
    "scrolled": true
   },
   "outputs": [],
   "source": [
    "DUTCH_COMMON_NAME = 'Merel'\n",
    "COUNT = 12\n",
    "species = session.query(CommonName).filter(\n",
    "    CommonName.language_code == 'nl',\n",
    "    CommonName.common_name == DUTCH_COMMON_NAME,\n",
    ").one().species\n",
    "\n",
    "selection = recording_selection.RecordingSelection(species, session, recordings_fetcher, recording_overrides)\n",
    "print(f'Found {len(selection.candidate_recordings)} candidate recordings for {species.scientific_name} ({species.common_name(\"nl\")}); loading the first {COUNT}...')\n",
    "\n",
    "recordings_analyses = list(tqdm(itertools.islice(selection.suitable_recordings(), COUNT), total=COUNT))"
   ]
  },
  {
   "cell_type": "markdown",
   "metadata": {},
   "source": [
    "Display results of vocalization detection."
   ]
  },
  {
   "cell_type": "code",
   "execution_count": null,
   "metadata": {},
   "outputs": [],
   "source": [
    "counts = collections.defaultdict(int)\n",
    "for r in selection.candidate_recordings:\n",
    "    for t in r.types:\n",
    "        counts[t] += 1\n",
    "for t, c in sorted(counts.items(), key=lambda i: i[1], reverse=True):\n",
    "    print(f'{c:3}  {t}')"
   ]
  },
  {
   "cell_type": "code",
   "execution_count": null,
   "metadata": {},
   "outputs": [],
   "source": [
    "specshow_args = dict(\n",
    "    x_axis='time',\n",
    "    y_axis='log', fmin=0, fmax=analysis.SAMPLE_RATE / 2,\n",
    "    cmap='magma', vmin=-80, vmax=0,\n",
    "    hop_length=analysis.FFT_HOP_LENGTH, sr=analysis.SAMPLE_RATE,\n",
    ")\n",
    "\n",
    "for r, a in recordings_analyses:\n",
    "    # Re-create the analysis object so that cached values don't bite us while we change the code.\n",
    "    a = analysis.Analysis(a.sound)\n",
    "    \n",
    "    # Make sure to use the same reference amplitude for the dB conversion on both sides of the plot.\n",
    "    ref = np.amax(a.filtered_spectrogram)\n",
    "\n",
    "    # Create figure.\n",
    "    fig, ax = plt.subplots(1, 2, figsize=(12, 3), gridspec_kw={'width_ratios': [8, 1]}, sharey='all')\n",
    "    \n",
    "    # Display filtered spectrogram on the left.\n",
    "    img = librosa.display.specshow(librosa.amplitude_to_db(a.filtered_spectrogram, ref=ref),\n",
    "                                   **specshow_args, ax=ax[0])\n",
    "    ax[0].set_title(f'{r.recording_id} - {r.type}')\n",
    "    ax[0].title.set_url('https:' + r.url)\n",
    "    \n",
    "    # Plot volume of signal on top of spectrogram.\n",
    "    ax_right = ax[0].twinx()\n",
    "    xs = analysis.frames_to_time(np.arange(0, a.spectrogram.shape[1]))\n",
    "    ax_right.plot(xs, a.volume_db,\n",
    "                  color='red', linewidth=1.0)\n",
    "    ax_right.plot(xs, a.perceptual_filtered_volume_db,\n",
    "                  color='lime', linewidth=1.0)\n",
    "    ax_right.set_ylim(-80, 0)\n",
    "\n",
    "    # Display vocalizations as transparent green rectangles on top of the spectrogram.\n",
    "    for vocalization in a.vocalizations:\n",
    "        ax[0].add_patch(\n",
    "            Rectangle((vocalization.start, 0), vocalization.duration, analysis.SAMPLE_RATE / 2,\n",
    "                      edgecolor='none', facecolor='#00ff0040'))\n",
    "    \n",
    "    # Add lines at our vocalization thresholds.\n",
    "    ax_right.axhline(analysis.VOCALIZATION_TRIGGER_THRESHOLD_DB, color='yellow')\n",
    "    ax_right.axhline(analysis.VOCALIZATION_KEEP_THRESHOLD_DB, color='orange')\n",
    "    \n",
    "    # Display noise profile on the right.\n",
    "    img = librosa.display.specshow(librosa.amplitude_to_db(a.noise_profile, ref=ref), **specshow_args, ax=ax[1])\n",
    "    ax[1].set_xticks([])\n",
    "    ax[1].set_xlabel(None)\n",
    "    ax[1].set_ylabel(None)\n",
    "    fig.colorbar(img, ax=ax[1])\n",
    "    \n",
    "    plt.tight_layout()\n",
    "    plt.show()\n",
    "    \n",
    "    IPython.display.display(IPython.display.Audio(a.sound, rate=analysis.SAMPLE_RATE))"
   ]
  },
  {
   "cell_type": "code",
   "execution_count": null,
   "metadata": {},
   "outputs": [],
   "source": [
    "def show_spectrograms(spectrograms, ax=None, **kwargs):\n",
    "    max_width = 3000\n",
    "    x = 0\n",
    "    y = 0\n",
    "    for spectrogram in spectrograms:\n",
    "        h, w = spectrogram.shape\n",
    "        if x + w > max_width and x > 0:\n",
    "            x = 0\n",
    "            y -= h\n",
    "        ax.imshow(spectrogram, cmap='magma', origin='lower', aspect='auto', extent=(x, x + w, y - h, y), **kwargs)\n",
    "        ax.add_patch(Rectangle((x, y - h), w, h, fill=False, color='lime'))\n",
    "        x += w + 1\n",
    "        if x > max_width:\n",
    "            x = 0\n",
    "            y -= h\n",
    "    ax.axis('off')\n",
    "    ax.set_xlim(0, max_width)\n",
    "    ax.set_ylim(y - h, 0)"
   ]
  }
 ],
 "metadata": {
  "kernelspec": {
   "display_name": "Python 3",
   "language": "python",
   "name": "python3"
  },
  "language_info": {
   "codemirror_mode": {
    "name": "ipython",
    "version": 3
   },
   "file_extension": ".py",
   "mimetype": "text/x-python",
   "name": "python",
   "nbconvert_exporter": "python",
   "pygments_lexer": "ipython3",
   "version": "3.8.6"
  }
 },
 "nbformat": 4,
 "nbformat_minor": 4
}
