{
 "cells": [
  {
   "cell_type": "code",
   "execution_count": null,
   "metadata": {},
   "outputs": [],
   "source": [
    "%load_ext autoreload\n",
    "%autoreload 2\n",
    "\n",
    "import db\n",
    "import fetcher\n",
    "from recordings import Recording\n",
    "from trim_recordings import detect_utterances\n",
    "\n",
    "import librosa\n",
    "import librosa.display\n",
    "from matplotlib.patches import Rectangle\n",
    "import matplotlib.pyplot as plt\n",
    "import numpy as np\n",
    "import pydub\n",
    "from tqdm import tqdm\n",
    "\n",
    "import io\n",
    "import multiprocessing"
   ]
  },
  {
   "cell_type": "code",
   "execution_count": null,
   "metadata": {},
   "outputs": [],
   "source": [
    "session = db.create_session('master.db')\n",
    "recordings_fetcher = fetcher.Fetcher('recordings', pool_size=1)"
   ]
  },
  {
   "cell_type": "code",
   "execution_count": null,
   "metadata": {},
   "outputs": [],
   "source": [
    "# Load recordings from the database and filter them according to some selection criteria:\n",
    "# right species, contains the data we need, good quality, not too short and not too long.\n",
    "\n",
    "recordings = [\n",
    "    r for r in session.query(Recording).filter(\n",
    "        #Recording.genus == 'Turdus', Recording.species == 'merula', # Merel\n",
    "        Recording.genus == 'Passer', Recording.species == 'domesticus', # Huismus\n",
    "        #Recording.genus == 'Acrocephalus', Recording.species == 'palustris', # Bosrietzanger\n",
    "    )\n",
    "    if r.url and r.audio_url and not r.background_species and r.quality == 'A' and 10 <= r.length_seconds <= 600\n",
    "]\n",
    "recordings = recordings[:20] # These happen to give reasonable Otsu thresholding.\n",
    "len(recordings)"
   ]
  },
  {
   "cell_type": "code",
   "execution_count": null,
   "metadata": {},
   "outputs": [],
   "source": [
    "# Download (cached) and decode the MP3s. \n",
    "\n",
    "sr = 44100\n",
    "\n",
    "def load_recording(recording):\n",
    "    data = recordings_fetcher.fetch_cached(recording.audio_url)\n",
    "    sound = pydub.AudioSegment.from_file(io.BytesIO(data), 'mp3')\\\n",
    "        .set_channels(1)\\\n",
    "        .set_frame_rate(sr)\\\n",
    "        .set_sample_width(2)\n",
    "    return (recording.recording_id, sound)\n",
    "\n",
    "pool = multiprocessing.pool.Pool(8)\n",
    "sounds = dict(tqdm(pool.imap(load_recording, recordings, 1), total=len(recordings)))\n",
    "pool.close()"
   ]
  },
  {
   "cell_type": "code",
   "execution_count": null,
   "metadata": {
    "scrolled": false
   },
   "outputs": [],
   "source": [
    "# Detect utterances in sound based on Otsu threshold of loudness.\n",
    "\n",
    "def show_spectrogram(sound, recording_id):\n",
    "    y = np.array(sound.get_array_of_samples()) / 0x8000\n",
    "    D = librosa.stft(y)\n",
    "    S_db = librosa.amplitude_to_db(np.abs(D), ref=np.max)\n",
    "\n",
    "    fig, ax = plt.subplots(figsize=(20, 5))\n",
    "    img = librosa.display.specshow(S_db, x_axis='time', y_axis='linear', ax=ax, sr=sr)\n",
    "    ax.set(title=recording_id)\n",
    "    fig.colorbar(img, ax=ax, format=\"%+2.f dB\")\n",
    "    \n",
    "    return fig, ax\n",
    "\n",
    "def show_utterance(ax, utterance):\n",
    "    start, end = utterance[0] / 1000, utterance[1] / 1000\n",
    "    ax.add_patch(Rectangle((start, 0), end - start, sr / 2, edgecolor='none', facecolor='#00ff0040'))\n",
    "\n",
    "for recording_id, sound in sounds.items():\n",
    "    utterances = detect_utterances(sound, recording_id, debug_otsu_threshold=True)\n",
    "    fig, ax = show_spectrogram(sound, recording_id)\n",
    "    for start_ms, end_ms in utterances:\n",
    "        show_utterance(ax, (start_ms, end_ms))\n",
    "        #utterances.append((recording_id, start_ms, end_ms))"
   ]
  },
  {
   "cell_type": "code",
   "execution_count": null,
   "metadata": {
    "scrolled": false
   },
   "outputs": [],
   "source": []
  }
 ],
 "metadata": {
  "kernelspec": {
   "display_name": "Python 3",
   "language": "python",
   "name": "python3"
  },
  "language_info": {
   "codemirror_mode": {
    "name": "ipython",
    "version": 3
   },
   "file_extension": ".py",
   "mimetype": "text/x-python",
   "name": "python",
   "nbconvert_exporter": "python",
   "pygments_lexer": "ipython3",
   "version": "3.8.6"
  }
 },
 "nbformat": 4,
 "nbformat_minor": 4
}
